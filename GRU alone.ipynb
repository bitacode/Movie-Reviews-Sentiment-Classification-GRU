{
 "cells": [
  {
   "cell_type": "markdown",
   "id": "349ea870-ab08-4fa2-9404-824e8be5c24f",
   "metadata": {},
   "source": [
    "**<h1>IMPORT LIBRARIES</h1>**"
   ]
  },
  {
   "cell_type": "code",
   "execution_count": 1,
   "id": "d5a6caa6-e99b-48f5-b0db-c3dc27b1a9ae",
   "metadata": {},
   "outputs": [],
   "source": [
    "import os\n",
    "import re\n",
    "import pickle\n",
    "import pandas as pd\n",
    "import tensorflow as tf\n",
    "import numpy as np\n",
    "import seaborn as sns\n",
    "import matplotlib.pyplot as plt\n",
    "from transformers import BertTokenizer, TFBertModel\n",
    "from tensorflow.keras import regularizers\n",
    "from tensorflow.keras.utils import to_categorical\n",
    "from tensorflow.keras.optimizers import Adam\n",
    "from tensorflow.keras.callbacks import EarlyStopping, ReduceLROnPlateau, ModelCheckpoint\n",
    "from tensorflow.keras.layers import Input, GRU, Dense, LayerNormalization\n",
    "from tensorflow.keras.models import Model, load_model\n",
    "from sklearn.model_selection import train_test_split\n",
    "from sklearn.metrics import confusion_matrix, classification_report"
   ]
  },
  {
   "cell_type": "markdown",
   "id": "58f0b0cd-62df-442a-96b6-b10a07182433",
   "metadata": {},
   "source": [
    "**<h1>READ DATASET</h1>**"
   ]
  },
  {
   "cell_type": "code",
   "execution_count": null,
   "id": "e514c4f8-b8a8-41c5-9993-8ecdce675fc7",
   "metadata": {},
   "outputs": [],
   "source": [
    "data = pd.read_csv('./resetted_index_cleaned_polarity_roberta.csv', index_col=0)"
   ]
  },
  {
   "cell_type": "code",
   "execution_count": null,
   "id": "e808fb7f-12ce-493e-a331-980849ab2322",
   "metadata": {},
   "outputs": [],
   "source": [
    "pos = data[data['sentiment'] == 'positive'].head(312564)\n",
    "neu = data[data['sentiment'] == 'neutral'].head(312564)\n",
    "neg = data[data['sentiment'] == 'negative'].head(312564)\n",
    "df = pd.concat([pos, neu, neg], ignore_index=True)"
   ]
  },
  {
   "cell_type": "code",
   "execution_count": null,
   "id": "bccb9345-3f94-4956-ac29-d354989ade33",
   "metadata": {},
   "outputs": [],
   "source": [
    "df['sentiment'] = df['sentiment'].replace({'positive': 0, 'negative': 1, 'neutral': 2})\n",
    "df.head()"
   ]
  },
  {
   "cell_type": "markdown",
   "id": "253c7473-cadc-4762-b30d-b778182b1898",
   "metadata": {},
   "source": [
    "**<h1>SPLIT DATASET</h1>**"
   ]
  },
  {
   "cell_type": "code",
   "execution_count": null,
   "id": "0c984327-7e23-409a-a983-78b3a144b48e",
   "metadata": {},
   "outputs": [],
   "source": [
    "X = df['cleaned_review'].tolist()\n",
    "for index, value in enumerate(X):\n",
    "    if isinstance(value, float):\n",
    "        X[index] = str(value)"
   ]
  },
  {
   "cell_type": "code",
   "execution_count": null,
   "id": "9e487775-8d0c-4ea8-b4f2-32718dd7ba82",
   "metadata": {},
   "outputs": [],
   "source": [
    "y = to_categorical(df['sentiment'])\n",
    "y = np.array(y)"
   ]
  },
  {
   "cell_type": "code",
   "execution_count": null,
   "id": "af18301d-5e73-4844-a2ef-052f648f312d",
   "metadata": {},
   "outputs": [],
   "source": [
    "X_train, X_test, y_train, y_test = train_test_split(X, y, test_size=0.3, random_state=0)"
   ]
  },
  {
   "cell_type": "markdown",
   "id": "1045b188-b85e-4d85-a0b0-09013703a911",
   "metadata": {},
   "source": [
    "**<h1>TOKENIZATION</h1>**"
   ]
  },
  {
   "cell_type": "code",
   "execution_count": 2,
   "id": "80df4d0e-7349-486a-8a72-f90ec0e2ae75",
   "metadata": {},
   "outputs": [
    {
     "name": "stderr",
     "output_type": "stream",
     "text": [
      "Some weights of the PyTorch model were not used when initializing the TF 2.0 model TFBertModel: ['cls.predictions.bias', 'cls.seq_relationship.weight', 'cls.seq_relationship.bias', 'cls.predictions.transform.LayerNorm.weight', 'cls.predictions.transform.dense.weight', 'cls.predictions.transform.dense.bias', 'cls.predictions.transform.LayerNorm.bias']\n",
      "- This IS expected if you are initializing TFBertModel from a PyTorch model trained on another task or with another architecture (e.g. initializing a TFBertForSequenceClassification model from a BertForPreTraining model).\n",
      "- This IS NOT expected if you are initializing TFBertModel from a PyTorch model that you expect to be exactly identical (e.g. initializing a TFBertForSequenceClassification model from a BertForSequenceClassification model).\n",
      "All the weights of TFBertModel were initialized from the PyTorch model.\n",
      "If your task is similar to the task the model of the checkpoint was trained on, you can already use TFBertModel for predictions without further training.\n"
     ]
    }
   ],
   "source": [
    "model_name = 'bert-base-uncased'\n",
    "tokenizer = BertTokenizer.from_pretrained(model_name)\n",
    "bert_model = TFBertModel.from_pretrained(model_name)"
   ]
  },
  {
   "cell_type": "code",
   "execution_count": 3,
   "id": "5240904c-3000-476c-bfc2-c42866a431ac",
   "metadata": {},
   "outputs": [],
   "source": [
    "shape = 96\n",
    "batch_size = 64"
   ]
  },
  {
   "cell_type": "code",
   "execution_count": null,
   "id": "261e4b92-5185-4c3e-bb84-9ee720220be3",
   "metadata": {},
   "outputs": [],
   "source": [
    "train_encodings = tokenizer(X_train, padding='max_length', truncation=True, max_length=shape, return_tensors='tf')"
   ]
  },
  {
   "cell_type": "code",
   "execution_count": null,
   "id": "fe0fb5ff-a189-4a41-8c9a-dbae9fa5c6f0",
   "metadata": {},
   "outputs": [],
   "source": [
    "test_encodings = tokenizer(X_test, padding='max_length', truncation=True, max_length=shape, return_tensors='tf')"
   ]
  },
  {
   "cell_type": "markdown",
   "id": "fad06170-c78d-4070-8e42-55e24f84bd94",
   "metadata": {},
   "source": [
    "## **LOAD TOKENIZATION**"
   ]
  },
  {
   "cell_type": "code",
   "execution_count": 4,
   "id": "b77a4921-5242-44bf-aff0-069a6d2e2680",
   "metadata": {},
   "outputs": [],
   "source": [
    "save_path_train = './fix/train_encodings/'\n",
    "save_path_test = './fix/test_encodings/'\n",
    "save_path_y_train = './fix/y_train/y_train.tfrecord'\n",
    "save_path_y_test = './fix/y_test/y_test.tfrecord'"
   ]
  },
  {
   "cell_type": "code",
   "execution_count": 5,
   "id": "e812a3ad-ee49-4a44-afa4-26416dcf7e0b",
   "metadata": {},
   "outputs": [],
   "source": [
    "serialized_tensor_train = tf.io.read_file(save_path_y_train)\n",
    "serialized_tensor_test = tf.io.read_file(save_path_y_test)"
   ]
  },
  {
   "cell_type": "code",
   "execution_count": 6,
   "id": "12147fbf-da74-441b-9c5b-171ec225bb34",
   "metadata": {},
   "outputs": [],
   "source": [
    "loaded_tensor_train = tf.io.parse_tensor(serialized_tensor_train, out_type=tf.float32)\n",
    "loaded_tensor_test = tf.io.parse_tensor(serialized_tensor_test, out_type=tf.float32)"
   ]
  },
  {
   "cell_type": "code",
   "execution_count": 7,
   "id": "cfc9b1f1-72be-4d82-b119-9dd143300f54",
   "metadata": {},
   "outputs": [],
   "source": [
    "loaded_y_train = loaded_tensor_train.numpy()\n",
    "loaded_y_test = loaded_tensor_test.numpy()"
   ]
  },
  {
   "cell_type": "code",
   "execution_count": 8,
   "id": "117372aa-210d-433a-8717-2d2d5022d8bd",
   "metadata": {},
   "outputs": [],
   "source": [
    "loaded_train_encodings = {}\n",
    "for key in ['input_ids', 'attention_mask', 'token_type_ids']:\n",
    "    tensor = tf.io.read_file(f\"{save_path_train}/{key}.tfrecord\")\n",
    "    loaded_train_encodings[key] = tf.io.parse_tensor(tensor, out_type=tf.int32)"
   ]
  },
  {
   "cell_type": "code",
   "execution_count": 9,
   "id": "be94a732-352e-40c8-88d2-6e18dcaeb62f",
   "metadata": {},
   "outputs": [],
   "source": [
    "loaded_test_encodings = {}\n",
    "for key in ['input_ids', 'attention_mask', 'token_type_ids']:\n",
    "    tensor = tf.io.read_file(f\"{save_path_test}/{key}.tfrecord\")\n",
    "    loaded_test_encodings[key] = tf.io.parse_tensor(tensor, out_type=tf.int32)"
   ]
  },
  {
   "cell_type": "markdown",
   "id": "2f55a566-1a04-43ea-b2a7-225b1137f5fc",
   "metadata": {},
   "source": [
    "**<h1>CONVERT TO TENSORFLOW DATASET</h1>**"
   ]
  },
  {
   "cell_type": "code",
   "execution_count": 10,
   "id": "d039dfa3-af3f-4ad1-a6d2-c65b9df7a446",
   "metadata": {},
   "outputs": [],
   "source": [
    "def create_tf_dataset(encodings, labels):\n",
    "    return tf.data.Dataset.from_tensor_slices((\n",
    "        {\n",
    "            'input_ids': encodings['input_ids'],\n",
    "            'attention_mask': encodings['attention_mask']\n",
    "        },\n",
    "        tf.constant(labels)\n",
    "    )).batch(batch_size, drop_remainder=True)"
   ]
  },
  {
   "cell_type": "code",
   "execution_count": 11,
   "id": "0c8d9f0d-b05a-4c9a-8680-6cbc11f89c9a",
   "metadata": {},
   "outputs": [],
   "source": [
    "train_tf_dataset = create_tf_dataset(loaded_train_encodings, loaded_y_train)\n",
    "test_tf_dataset = create_tf_dataset(loaded_test_encodings, loaded_y_test)"
   ]
  },
  {
   "cell_type": "markdown",
   "id": "457ce055-55af-4567-b9c0-118be67737b5",
   "metadata": {},
   "source": [
    "**<h1>RNN MODEL</h1>**"
   ]
  },
  {
   "cell_type": "code",
   "execution_count": 12,
   "id": "c0903dc3-5beb-404f-b69d-77640c4e6980",
   "metadata": {},
   "outputs": [],
   "source": [
    "bert_model.trainable = False"
   ]
  },
  {
   "cell_type": "code",
   "execution_count": 13,
   "id": "c8c27906-b071-48c3-a03c-ae3447931915",
   "metadata": {},
   "outputs": [],
   "source": [
    "input_ids = Input(shape=(shape,), dtype=tf.int32, name='input_ids')\n",
    "attention_mask = Input(shape=(shape,), dtype=tf.int32, name='attention_mask')"
   ]
  },
  {
   "cell_type": "code",
   "execution_count": 14,
   "id": "53bca738-c379-4c9a-9886-1e5c12f5dbce",
   "metadata": {},
   "outputs": [],
   "source": [
    "bert_output = bert_model(input_ids, attention_mask=attention_mask)[0]"
   ]
  },
  {
   "cell_type": "code",
   "execution_count": 15,
   "id": "4bc24cb7-deca-4486-8ea6-cbad1242d1aa",
   "metadata": {},
   "outputs": [],
   "source": [
    "gru_layer_1 = GRU(64, input_shape=(shape, 768), return_sequences=True, dropout=0.0, recurrent_dropout=0.0, kernel_regularizer=regularizers.l2(0.001), recurrent_regularizer=regularizers.l2(0.001))(bert_output)\n",
    "layer_normalization_1 = LayerNormalization()(gru_layer_1)\n",
    "\n",
    "gru_layer_2 = GRU(128, return_sequences=True, dropout=0.0, recurrent_dropout=0.0, kernel_regularizer=regularizers.l2(0.001), recurrent_regularizer=regularizers.l2(0.001))(layer_normalization_1)\n",
    "layer_normalization_2 = LayerNormalization()(gru_layer_2)\n",
    "\n",
    "gru_layer_3 = GRU(256, return_sequences=False, dropout=0.0, recurrent_dropout=0.0, kernel_regularizer=regularizers.l2(0.001), recurrent_regularizer=regularizers.l2(0.001))(layer_normalization_2)\n",
    "\n",
    "output = Dense(3, activation='softmax')(gru_layer_3)"
   ]
  },
  {
   "cell_type": "markdown",
   "id": "a1d6bb4b-d4c5-4ab9-892b-974122f96f4b",
   "metadata": {},
   "source": [
    "**<h1>TRAIN MODEL</h1>**"
   ]
  },
  {
   "cell_type": "code",
   "execution_count": 16,
   "id": "03901803-c68f-4e55-b998-f5efd54c852b",
   "metadata": {},
   "outputs": [],
   "source": [
    "model = Model(inputs=[input_ids, attention_mask], outputs=output)"
   ]
  },
  {
   "cell_type": "code",
   "execution_count": 17,
   "id": "cb0ee54b-f52e-4768-ab04-2fd323ad1b28",
   "metadata": {},
   "outputs": [],
   "source": [
    "model.compile(optimizer=Adam(learning_rate=1e-5), loss='categorical_crossentropy', metrics=['accuracy'])"
   ]
  },
  {
   "cell_type": "code",
   "execution_count": 18,
   "id": "7a3bb5cb-b52e-48a4-ad6b-dd36355a3962",
   "metadata": {},
   "outputs": [],
   "source": [
    "early_stopping = EarlyStopping(monitor='val_loss', patience=5, restore_best_weights=True)\n",
    "reduce_lr = ReduceLROnPlateau(monitor='val_loss', factor=0.2, patience=2, min_lr=1e-2)\n",
    "checkpoint = ModelCheckpoint('./fix/gru_alone.keras', save_best_only=True, monitor='val_loss', mode='min')"
   ]
  },
  {
   "cell_type": "code",
   "execution_count": 19,
   "id": "87cada71-8ef6-4fdf-b5b8-7154a44ae2f8",
   "metadata": {},
   "outputs": [
    {
     "name": "stdout",
     "output_type": "stream",
     "text": [
      "Epoch 1/50\n",
      "10256/10256 [==============================] - 3225s 313ms/step - loss: 1.4625 - accuracy: 0.6499 - val_loss: 1.1492 - val_accuracy: 0.7051 - lr: 1.0000e-05\n",
      "Epoch 2/50\n",
      "10256/10256 [==============================] - 3213s 313ms/step - loss: 1.0797 - accuracy: 0.6999 - val_loss: 0.9768 - val_accuracy: 0.7240 - lr: 1.0000e-05\n",
      "Epoch 3/50\n",
      "10256/10256 [==============================] - 3202s 312ms/step - loss: 0.9671 - accuracy: 0.7133 - val_loss: 0.8995 - val_accuracy: 0.7339 - lr: 1.0000e-05\n",
      "Epoch 4/50\n",
      "10256/10256 [==============================] - 3202s 312ms/step - loss: 0.9084 - accuracy: 0.7206 - val_loss: 0.8512 - val_accuracy: 0.7409 - lr: 1.0000e-05\n",
      "Epoch 5/50\n",
      "10256/10256 [==============================] - 3201s 312ms/step - loss: 0.8681 - accuracy: 0.7271 - val_loss: 0.8187 - val_accuracy: 0.7449 - lr: 1.0000e-05\n",
      "Epoch 6/50\n",
      "10256/10256 [==============================] - 3206s 313ms/step - loss: 0.8395 - accuracy: 0.7315 - val_loss: 0.7904 - val_accuracy: 0.7505 - lr: 1.0000e-05\n",
      "Epoch 7/50\n",
      "10256/10256 [==============================] - 3212s 313ms/step - loss: 0.8168 - accuracy: 0.7350 - val_loss: 0.7689 - val_accuracy: 0.7542 - lr: 1.0000e-05\n",
      "Epoch 8/50\n",
      "10256/10256 [==============================] - 3232s 315ms/step - loss: 0.7971 - accuracy: 0.7389 - val_loss: 0.7505 - val_accuracy: 0.7574 - lr: 1.0000e-05\n",
      "Epoch 9/50\n",
      "10256/10256 [==============================] - 3215s 313ms/step - loss: 0.7795 - accuracy: 0.7426 - val_loss: 0.7344 - val_accuracy: 0.7612 - lr: 1.0000e-05\n",
      "Epoch 10/50\n",
      "10256/10256 [==============================] - 3217s 314ms/step - loss: 0.7656 - accuracy: 0.7452 - val_loss: 0.7203 - val_accuracy: 0.7638 - lr: 1.0000e-05\n",
      "Epoch 11/50\n",
      "10256/10256 [==============================] - 3198s 312ms/step - loss: 0.7534 - accuracy: 0.7471 - val_loss: 0.7090 - val_accuracy: 0.7657 - lr: 1.0000e-05\n",
      "Epoch 12/50\n",
      "10256/10256 [==============================] - 3198s 312ms/step - loss: 0.7413 - accuracy: 0.7495 - val_loss: 0.6975 - val_accuracy: 0.7677 - lr: 1.0000e-05\n",
      "Epoch 13/50\n",
      "10256/10256 [==============================] - 3197s 312ms/step - loss: 0.7312 - accuracy: 0.7520 - val_loss: 0.6874 - val_accuracy: 0.7697 - lr: 1.0000e-05\n",
      "Epoch 14/50\n",
      "10256/10256 [==============================] - 3198s 312ms/step - loss: 0.7213 - accuracy: 0.7533 - val_loss: 0.6788 - val_accuracy: 0.7710 - lr: 1.0000e-05\n",
      "Epoch 15/50\n",
      "10256/10256 [==============================] - 3200s 312ms/step - loss: 0.7130 - accuracy: 0.7548 - val_loss: 0.6707 - val_accuracy: 0.7727 - lr: 1.0000e-05\n",
      "Epoch 16/50\n",
      "10256/10256 [==============================] - 3208s 313ms/step - loss: 0.7050 - accuracy: 0.7567 - val_loss: 0.6626 - val_accuracy: 0.7743 - lr: 1.0000e-05\n",
      "Epoch 17/50\n",
      "10256/10256 [==============================] - 3208s 313ms/step - loss: 0.6977 - accuracy: 0.7577 - val_loss: 0.6550 - val_accuracy: 0.7761 - lr: 1.0000e-05\n",
      "Epoch 18/50\n",
      "10256/10256 [==============================] - 3206s 313ms/step - loss: 0.6899 - accuracy: 0.7594 - val_loss: 0.6492 - val_accuracy: 0.7767 - lr: 1.0000e-05\n",
      "Epoch 19/50\n",
      "10256/10256 [==============================] - 3204s 312ms/step - loss: 0.6835 - accuracy: 0.7608 - val_loss: 0.6423 - val_accuracy: 0.7780 - lr: 1.0000e-05\n",
      "Epoch 20/50\n",
      "10256/10256 [==============================] - 3212s 313ms/step - loss: 0.6771 - accuracy: 0.7623 - val_loss: 0.6371 - val_accuracy: 0.7794 - lr: 1.0000e-05\n",
      "Epoch 21/50\n",
      "10256/10256 [==============================] - 3201s 312ms/step - loss: 0.6720 - accuracy: 0.7636 - val_loss: 0.6314 - val_accuracy: 0.7805 - lr: 1.0000e-05\n",
      "Epoch 22/50\n",
      "10256/10256 [==============================] - 3203s 312ms/step - loss: 0.6668 - accuracy: 0.7642 - val_loss: 0.6269 - val_accuracy: 0.7811 - lr: 1.0000e-05\n",
      "Epoch 23/50\n",
      "10256/10256 [==============================] - 3199s 312ms/step - loss: 0.6607 - accuracy: 0.7649 - val_loss: 0.6208 - val_accuracy: 0.7829 - lr: 1.0000e-05\n",
      "Epoch 24/50\n",
      "10256/10256 [==============================] - 3207s 313ms/step - loss: 0.6565 - accuracy: 0.7661 - val_loss: 0.6165 - val_accuracy: 0.7837 - lr: 1.0000e-05\n",
      "Epoch 25/50\n",
      "10256/10256 [==============================] - 3214s 313ms/step - loss: 0.6514 - accuracy: 0.7678 - val_loss: 0.6124 - val_accuracy: 0.7846 - lr: 1.0000e-05\n",
      "Epoch 26/50\n",
      "10256/10256 [==============================] - 3212s 313ms/step - loss: 0.6471 - accuracy: 0.7682 - val_loss: 0.6080 - val_accuracy: 0.7852 - lr: 1.0000e-05\n",
      "Epoch 27/50\n",
      "10256/10256 [==============================] - 3206s 313ms/step - loss: 0.6426 - accuracy: 0.7689 - val_loss: 0.6046 - val_accuracy: 0.7860 - lr: 1.0000e-05\n",
      "Epoch 28/50\n",
      "10256/10256 [==============================] - 3207s 313ms/step - loss: 0.6388 - accuracy: 0.7700 - val_loss: 0.6009 - val_accuracy: 0.7869 - lr: 1.0000e-05\n",
      "Epoch 29/50\n",
      "10256/10256 [==============================] - 3207s 313ms/step - loss: 0.6356 - accuracy: 0.7701 - val_loss: 0.5973 - val_accuracy: 0.7872 - lr: 1.0000e-05\n",
      "Epoch 30/50\n",
      "10256/10256 [==============================] - 3199s 312ms/step - loss: 0.6316 - accuracy: 0.7711 - val_loss: 0.5936 - val_accuracy: 0.7884 - lr: 1.0000e-05\n",
      "Epoch 31/50\n",
      "10256/10256 [==============================] - 3215s 314ms/step - loss: 0.6281 - accuracy: 0.7722 - val_loss: 0.5904 - val_accuracy: 0.7887 - lr: 1.0000e-05\n",
      "Epoch 32/50\n",
      "10256/10256 [==============================] - 3207s 313ms/step - loss: 0.6247 - accuracy: 0.7729 - val_loss: 0.5869 - val_accuracy: 0.7895 - lr: 1.0000e-05\n",
      "Epoch 33/50\n",
      "10256/10256 [==============================] - 3206s 313ms/step - loss: 0.6207 - accuracy: 0.7742 - val_loss: 0.5841 - val_accuracy: 0.7905 - lr: 1.0000e-05\n",
      "Epoch 34/50\n",
      "10256/10256 [==============================] - 3211s 313ms/step - loss: 0.6182 - accuracy: 0.7740 - val_loss: 0.5819 - val_accuracy: 0.7909 - lr: 1.0000e-05\n",
      "Epoch 35/50\n",
      "10256/10256 [==============================] - 3213s 313ms/step - loss: 0.6158 - accuracy: 0.7749 - val_loss: 0.5782 - val_accuracy: 0.7914 - lr: 1.0000e-05\n",
      "Epoch 36/50\n",
      "10256/10256 [==============================] - 3204s 312ms/step - loss: 0.6121 - accuracy: 0.7759 - val_loss: 0.5762 - val_accuracy: 0.7914 - lr: 1.0000e-05\n",
      "Epoch 37/50\n",
      "10256/10256 [==============================] - 3189s 311ms/step - loss: 0.6102 - accuracy: 0.7754 - val_loss: 0.5748 - val_accuracy: 0.7917 - lr: 1.0000e-05\n",
      "Epoch 38/50\n",
      "10256/10256 [==============================] - 3190s 311ms/step - loss: 0.6071 - accuracy: 0.7769 - val_loss: 0.5719 - val_accuracy: 0.7927 - lr: 1.0000e-05\n",
      "Epoch 39/50\n",
      "10256/10256 [==============================] - 3190s 311ms/step - loss: 0.6054 - accuracy: 0.7774 - val_loss: 0.5695 - val_accuracy: 0.7931 - lr: 1.0000e-05\n",
      "Epoch 40/50\n",
      "10256/10256 [==============================] - 3189s 311ms/step - loss: 0.6024 - accuracy: 0.7783 - val_loss: 0.5697 - val_accuracy: 0.7926 - lr: 1.0000e-05\n",
      "Epoch 41/50\n",
      "10256/10256 [==============================] - 3197s 312ms/step - loss: 0.5999 - accuracy: 0.7784 - val_loss: 0.5646 - val_accuracy: 0.7947 - lr: 1.0000e-05\n",
      "Epoch 42/50\n",
      "10256/10256 [==============================] - 3189s 311ms/step - loss: 0.5975 - accuracy: 0.7789 - val_loss: 0.5632 - val_accuracy: 0.7946 - lr: 1.0000e-05\n",
      "Epoch 43/50\n",
      "10256/10256 [==============================] - 3188s 311ms/step - loss: 0.5957 - accuracy: 0.7792 - val_loss: 0.5603 - val_accuracy: 0.7954 - lr: 1.0000e-05\n",
      "Epoch 44/50\n",
      "10256/10256 [==============================] - 3188s 311ms/step - loss: 0.5933 - accuracy: 0.7803 - val_loss: 0.5569 - val_accuracy: 0.7966 - lr: 1.0000e-05\n",
      "Epoch 45/50\n",
      "10256/10256 [==============================] - 3189s 311ms/step - loss: 0.5910 - accuracy: 0.7803 - val_loss: 0.5558 - val_accuracy: 0.7966 - lr: 1.0000e-05\n",
      "Epoch 46/50\n",
      "10256/10256 [==============================] - 3195s 311ms/step - loss: 0.5893 - accuracy: 0.7803 - val_loss: 0.5556 - val_accuracy: 0.7960 - lr: 1.0000e-05\n",
      "Epoch 47/50\n",
      "10256/10256 [==============================] - 3199s 312ms/step - loss: 0.5872 - accuracy: 0.7810 - val_loss: 0.5519 - val_accuracy: 0.7975 - lr: 1.0000e-05\n",
      "Epoch 48/50\n",
      "10256/10256 [==============================] - 3207s 313ms/step - loss: 0.5858 - accuracy: 0.7816 - val_loss: 0.5515 - val_accuracy: 0.7972 - lr: 1.0000e-05\n",
      "Epoch 49/50\n",
      "10256/10256 [==============================] - 3218s 314ms/step - loss: 0.5833 - accuracy: 0.7824 - val_loss: 0.5507 - val_accuracy: 0.7968 - lr: 1.0000e-05\n",
      "Epoch 50/50\n",
      "10256/10256 [==============================] - 3223s 314ms/step - loss: 0.5820 - accuracy: 0.7828 - val_loss: 0.5470 - val_accuracy: 0.7985 - lr: 1.0000e-05\n"
     ]
    }
   ],
   "source": [
    "history = model.fit(train_tf_dataset, epochs=50, validation_data=(test_tf_dataset), callbacks=[checkpoint, early_stopping, reduce_lr])"
   ]
  },
  {
   "cell_type": "markdown",
   "id": "5eead2c9-65f2-441d-b822-09bfbc2ff913",
   "metadata": {},
   "source": [
    "**<h1>HISTORY LOG</h1>**"
   ]
  },
  {
   "cell_type": "code",
   "execution_count": 20,
   "id": "5d2fea0d-373c-46c6-9011-2fe9d63ff741",
   "metadata": {},
   "outputs": [],
   "source": [
    "with open('./fix/gru_alone.pkl', 'wb') as file_pi:\n",
    "    pickle.dump(history.history, file_pi)"
   ]
  },
  {
   "cell_type": "code",
   "execution_count": 21,
   "id": "ab83f43b-0eff-4ba5-8be0-1767b73fc5cc",
   "metadata": {},
   "outputs": [
    {
     "data": {
      "image/png": "[encoded data removed]",
      "text/plain": [
       "<Figure size 1200x400 with 2 Axes>"
      ]
     },
     "metadata": {},
     "output_type": "display_data"
    }
   ],
   "source": [
    "def plot_training_history(history):\n",
    "    # Plot training & validation accuracy values\n",
    "    plt.figure(figsize=(12, 4))\n",
    "\n",
    "    plt.subplot(1, 2, 1)\n",
    "    plt.plot(history.history['accuracy'])\n",
    "    plt.plot(history.history['val_accuracy'])\n",
    "    plt.title('Model Accuracy Batch Size 64')\n",
    "    plt.ylabel('Accuracy')\n",
    "    plt.xlabel('Epoch')\n",
    "    plt.legend(['Train', 'Validation'], loc='upper left')\n",
    "\n",
    "    # Plot training & validation loss values\n",
    "    plt.subplot(1, 2, 2)\n",
    "    plt.plot(history.history['loss'])\n",
    "    plt.plot(history.history['val_loss'])\n",
    "    plt.title('Model Loss Batch Size 64')\n",
    "    plt.ylabel('Loss')\n",
    "    plt.xlabel('Epoch')\n",
    "    plt.legend(['Train', 'Validation'], loc='upper left')\n",
    "\n",
    "    plt.show()\n",
    "\n",
    "plot_training_history(history)"
   ]
  },
  {
   "cell_type": "markdown",
   "id": "eba4d6fc-fda0-4a2f-a57f-b9d77857e0ee",
   "metadata": {},
   "source": [
    "**<h1>LOAD MODEL</h1>**"
   ]
  },
  {
   "cell_type": "code",
   "execution_count": 22,
   "id": "5c60ddc4-089b-4693-80cd-c38c82e69fee",
   "metadata": {},
   "outputs": [],
   "source": [
    "custom_objects = {'TFBertModel': TFBertModel}\n",
    "loaded_model = load_model('./fix/gru_alone.keras', custom_objects=custom_objects, compile=False)\n",
    "optimizer = Adam(1e-5)\n",
    "loaded_model.compile(optimizer=optimizer, loss='categorical_crossentropy', metrics=['accuracy'])"
   ]
  },
  {
   "cell_type": "code",
   "execution_count": 23,
   "id": "cd574714-d497-4132-afc0-08fb29774a12",
   "metadata": {},
   "outputs": [
    {
     "name": "stdout",
     "output_type": "stream",
     "text": [
      "Model: \"model\"\n",
      "__________________________________________________________________________________________________\n",
      " Layer (type)                   Output Shape         Param #     Connected to                     \n",
      "==================================================================================================\n",
      " input_ids (InputLayer)         [(None, 96)]         0           []                               \n",
      "                                                                                                  \n",
      " attention_mask (InputLayer)    [(None, 96)]         0           []                               \n",
      "                                                                                                  \n",
      " tf_bert_model_1 (TFBertModel)  TFBaseModelOutputWi  109482240   ['input_ids[0][0]',              \n",
      "                                thPoolingAndCrossAt               'attention_mask[0][0]']         \n",
      "                                tentions(last_hidde                                               \n",
      "                                n_state=(None, 96,                                                \n",
      "                                768),                                                             \n",
      "                                 pooler_output=(Non                                               \n",
      "                                e, 768),                                                          \n",
      "                                 past_key_values=No                                               \n",
      "                                ne, hidden_states=N                                               \n",
      "                                one, attentions=Non                                               \n",
      "                                e, cross_attentions                                               \n",
      "                                =None)                                                            \n",
      "                                                                                                  \n",
      " gru (GRU)                      (None, 96, 64)       160128      ['tf_bert_model_1[0][0]']        \n",
      "                                                                                                  \n",
      " layer_normalization (LayerNorm  (None, 96, 64)      128         ['gru[0][0]']                    \n",
      " alization)                                                                                       \n",
      "                                                                                                  \n",
      " gru_1 (GRU)                    (None, 96, 128)      74496       ['layer_normalization[0][0]']    \n",
      "                                                                                                  \n",
      " layer_normalization_1 (LayerNo  (None, 96, 128)     256         ['gru_1[0][0]']                  \n",
      " rmalization)                                                                                     \n",
      "                                                                                                  \n",
      " gru_2 (GRU)                    (None, 256)          296448      ['layer_normalization_1[0][0]']  \n",
      "                                                                                                  \n",
      " dense (Dense)                  (None, 3)            771         ['gru_2[0][0]']                  \n",
      "                                                                                                  \n",
      "==================================================================================================\n",
      "Total params: 110,014,467\n",
      "Trainable params: 110,014,467\n",
      "Non-trainable params: 0\n",
      "__________________________________________________________________________________________________\n"
     ]
    }
   ],
   "source": [
    "loaded_model.summary()"
   ]
  },
  {
   "cell_type": "markdown",
   "id": "28b4b58d-3d8a-4b94-b40c-0d8a2c6b7b17",
   "metadata": {},
   "source": [
    "**<h1>VALIDATION</h1>**"
   ]
  },
  {
   "cell_type": "code",
   "execution_count": 25,
   "id": "3e124aa3-8ceb-4d7e-9f08-0c2250b46a1e",
   "metadata": {},
   "outputs": [
    {
     "name": "stdout",
     "output_type": "stream",
     "text": [
      "4395/4395 [==============================] - 860s 195ms/step\n"
     ]
    }
   ],
   "source": [
    "y_pred_prob = loaded_model.predict(test_tf_dataset)\n",
    "y_pred = np.argmax(y_pred_prob, axis=1)"
   ]
  },
  {
   "cell_type": "code",
   "execution_count": 26,
   "id": "30694b8c-2e09-4e9e-a332-ff83ae91c621",
   "metadata": {},
   "outputs": [],
   "source": [
    "y_true = np.concatenate([y for x, y in test_tf_dataset], axis=0)\n",
    "y_true = np.argmax(y_true, axis=1)"
   ]
  },
  {
   "cell_type": "code",
   "execution_count": 27,
   "id": "e9a770e2-975f-4b44-9a2e-ffd3d6925421",
   "metadata": {},
   "outputs": [],
   "source": [
    "conf_matrix = confusion_matrix(y_true, y_pred)"
   ]
  },
  {
   "cell_type": "code",
   "execution_count": 28,
   "id": "b19a5087-4f32-4733-b82a-0d4e65bb0a95",
   "metadata": {},
   "outputs": [
    {
     "data": {
      "image/png": "[encoded data removed]",
      "text/plain": [
       "<Figure size 1000x700 with 2 Axes>"
      ]
     },
     "metadata": {},
     "output_type": "display_data"
    }
   ],
   "source": [
    "plt.figure(figsize=(10, 7))\n",
    "sns.heatmap(conf_matrix, annot=True, fmt='d', cmap='Blues', xticklabels=['Positive', 'Negative', 'Neutral'], yticklabels=['Positive', 'Negative', 'Neutral'])\n",
    "plt.xlabel('Predicted', fontsize=14, fontweight='bold')\n",
    "plt.ylabel('Actual', fontsize=14, fontweight='bold')\n",
    "plt.title('Confusion Matrix', fontsize=16, fontweight='bold')\n",
    "plt.show()"
   ]
  },
  {
   "cell_type": "code",
   "execution_count": 29,
   "id": "c4f0eaa0-5cce-45b1-a5ee-b40865f80aa2",
   "metadata": {},
   "outputs": [
    {
     "name": "stdout",
     "output_type": "stream",
     "text": [
      "              precision    recall  f1-score   support\n",
      "\n",
      "    Positive       0.85      0.86      0.85     93727\n",
      "    Negative       0.83      0.83      0.83     93579\n",
      "     Neutral       0.72      0.71      0.71     93974\n",
      "\n",
      "    accuracy                           0.80    281280\n",
      "   macro avg       0.80      0.80      0.80    281280\n",
      "weighted avg       0.80      0.80      0.80    281280\n",
      "\n"
     ]
    }
   ],
   "source": [
    "print(classification_report(y_true, y_pred, target_names=['Positive', 'Negative', 'Neutral']))"
   ]
  },
  {
   "cell_type": "code",
   "execution_count": null,
   "id": "ce944291-c674-4aab-9044-f133225acbc7",
   "metadata": {},
   "outputs": [],
   "source": []
  }
 ],
 "metadata": {
  "kernelspec": {
   "display_name": "Python 3 (ipykernel)",
   "language": "python",
   "name": "python3"
  },
  "language_info": {
   "codemirror_mode": {
    "name": "ipython",
    "version": 3
   },
   "file_extension": ".py",
   "mimetype": "text/x-python",
   "name": "python",
   "nbconvert_exporter": "python",
   "pygments_lexer": "ipython3",
   "version": "3.10.14"
  }
 },
 "nbformat": 4,
 "nbformat_minor": 5
}
